{
 "cells": [
  {
   "cell_type": "code",
   "execution_count": null,
   "metadata": {},
   "outputs": [],
   "source": [
    "class ModelData:\n",
    "\n",
    "    def __init__(self,x,y):\n",
    "        self.x = x\n",
    "        self.y = y\n",
    "        # self.cluster = 0\n",
    "\n",
    "    def isiRatarataX(self,panjangData,TotalNilai):\n",
    "        self.x = TotalNilai / panjangData\n",
    "\n",
    "    def isiRatarataY(self,panjangData,TotalNilai):\n",
    "        self.y =  TotalNilai / panjangData\n",
    "\n",
    "    def isiTitikBaru(self,rataCentroi):\n",
    "        self.x = rataCentroi.x\n",
    "        self.y = rataCentroi.y\n",
    "\n",
    "    def isiCluster(self,cluster):\n",
    "        self.cluster = cluster"
   ]
  }
 ],
 "metadata": {
  "kernelspec": {
   "display_name": "Python 3",
   "language": "python",
   "name": "python3"
  },
  "language_info": {
   "codemirror_mode": {
    "name": "ipython",
    "version": 3
   },
   "file_extension": ".py",
   "mimetype": "text/x-python",
   "name": "python",
   "nbconvert_exporter": "python",
   "pygments_lexer": "ipython3",
   "version": "3.6.4"
  }
 },
 "nbformat": 4,
 "nbformat_minor": 2
}
